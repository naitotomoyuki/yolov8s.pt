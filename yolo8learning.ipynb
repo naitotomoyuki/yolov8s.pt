{
  "nbformat": 4,
  "nbformat_minor": 0,
  "metadata": {
    "colab": {
      "provenance": [],
      "gpuType": "A100",
      "toc_visible": true,
      "authorship_tag": "ABX9TyNpwBfuP6ZXvQq9330yADj3",
      "include_colab_link": true
    },
    "kernelspec": {
      "name": "python3",
      "display_name": "Python 3"
    },
    "language_info": {
      "name": "python"
    },
    "accelerator": "GPU"
  },
  "cells": [
    {
      "cell_type": "markdown",
      "metadata": {
        "id": "view-in-github",
        "colab_type": "text"
      },
      "source": [
        "<a href=\"https://colab.research.google.com/github/naitotomoyuki/yolov8s.pt/blob/main/yolo8learning.ipynb\" target=\"_parent\"><img src=\"https://colab.research.google.com/assets/colab-badge.svg\" alt=\"Open In Colab\"/></a>"
      ]
    },
    {
      "cell_type": "code",
      "source": [
        "!export LC_ALL=C.UTF-8\n",
        "!export LANG=C.UTF-8\n",
        "!export LANGUAGE=C.UTF-8"
      ],
      "metadata": {
        "id": "f438YCUbNO6D",
        "collapsed": true
      },
      "execution_count": null,
      "outputs": []
    },
    {
      "cell_type": "code",
      "source": [
        "!pip install -U torch torchvision torchaudio\n",
        "!pip install -U ultralytics"
      ],
      "metadata": {
        "id": "pMfiPX77P7d8"
      },
      "execution_count": null,
      "outputs": []
    },
    {
      "cell_type": "code",
      "execution_count": null,
      "metadata": {
        "id": "hqHJgmagKOsm"
      },
      "outputs": [],
      "source": [
        "from google.colab import drive\n",
        "drive.mount('/content/drive')"
      ]
    },
    {
      "cell_type": "code",
      "source": [
        "!rsync -ah --progress /content/drive/MyDrive/dataset/ /content/dataset/"
      ],
      "metadata": {
        "id": "V7XeP7IKKj2j",
        "collapsed": true
      },
      "execution_count": null,
      "outputs": []
    },
    {
      "cell_type": "code",
      "source": [
        "model_path = \"/content/drive/MyDrive/yolov8s.pt\"\n",
        "# YAMLファイルのパス\n",
        "data_yaml = \"/content/dataset/data.yaml\""
      ],
      "metadata": {
        "id": "GbNXDl6W6-Y8"
      },
      "execution_count": null,
      "outputs": []
    },
    {
      "cell_type": "code",
      "source": [
        "import yaml\n",
        "\n",
        "\n",
        "# YAMLファイルを読み込む\n",
        "with open(data_yaml, \"r\") as file:\n",
        "    data = yaml.safe_load(file)\n",
        "\n",
        "# 変更したいパス\n",
        "data[\"test\"] = \"./images/test\"\n",
        "data[\"train\"] = \"./images/train\"\n",
        "data[\"val\"] = \"./images/val\"\n",
        "\n",
        "# YAMLファイルを書き戻す\n",
        "with open(data_yaml, \"w\") as file:\n",
        "    yaml.safe_dump(data, file, default_flow_style=False)\n",
        "\n",
        "print(\"data.yaml のパスを更新しました。\")"
      ],
      "metadata": {
        "id": "KGcHAX_4i6Z8"
      },
      "execution_count": null,
      "outputs": []
    },
    {
      "cell_type": "code",
      "source": [
        "import os\n",
        "from ultralytics import YOLO\n",
        "import numpy as np\n",
        "\n",
        "\n",
        "def train_yolov8(model_path, data_yaml, epochs, batch_size, img_size, output_dir, iou_threshold, mosaic, mixup):\n",
        "    \"\"\"\n",
        "    Train YOLOv8 model with enhanced settings for small overlapping object detection.\n",
        "    \"\"\"\n",
        "    print(f\"Loading model from {model_path}\")\n",
        "    model = YOLO(model_path)\n",
        "\n",
        "    # Train the model with optimized settings\n",
        "    print(f\"Training YOLOv8 with {epochs} epochs...\")\n",
        "    model.train(\n",
        "        data=data_yaml,\n",
        "        epochs=epochs,\n",
        "        batch=batch_size,\n",
        "        imgsz=img_size,\n",
        "        project=output_dir,\n",
        "        name=\"yolov8_training\",\n",
        "        iou=iou_threshold,  # Adjust IoU threshold for better object separation\n",
        "        mosaic=mosaic,  # Enhance data augmentation with mosaic images\n",
        "        mixup=mixup,  # Mixup augmentation for diverse training\n",
        "        degrees=15,  # Rotation augmentation\n",
        "    )\n",
        "\n",
        "    print(f\"Training complete. Results saved to {output_dir}\")\n",
        "\n",
        "# Colab 用にパラメータを手動で指定\n",
        "model_path = \"/content/drive/MyDrive/yolov8s.pt\"  # モデルのパス (Google Drive に保存している場合は適宜変更)\n",
        "epochs = 150  # エポック数\n",
        "batch_size = 16  # バッチサイズ\n",
        "img_size = 960  # 画像サイズ\n",
        "iou_threshold = 0.3  # IoU 閾値\n",
        "mosaic = 1.0  # モザイクの確率\n",
        "mixup = 0.2  # Mixup の確率\n",
        "output_dir = \"runs_experiment\"  # 出力ディレクトリ\n",
        "\n",
        "# 出力ディレクトリを作成\n",
        "os.makedirs(output_dir, exist_ok=True)\n",
        "\n",
        "# YOLOv8 の学習実行\n",
        "train_yolov8(\n",
        "    model_path=model_path,\n",
        "    data_yaml=data_yaml,\n",
        "    epochs=epochs,\n",
        "    batch_size=batch_size,\n",
        "    img_size=img_size,\n",
        "    output_dir=output_dir,\n",
        "    iou_threshold=iou_threshold,\n",
        "    mosaic=mosaic,\n",
        "    mixup=mixup\n",
        ")\n"
      ],
      "metadata": {
        "id": "U-uMHhBsLWBz"
      },
      "execution_count": null,
      "outputs": []
    }
  ]
}